{
 "cells": [
  {
   "cell_type": "markdown",
   "id": "0495f98e-d6a2-44fe-afdc-4a64007a1e42",
   "metadata": {},
   "source": [
    "# Accessing raw data\n",
    "You may be wondering why you need `R` and `Python`. Bruker stores the measurement data in mcf and mcf_idx files (you can navigate to data -> small example -> small example.d to see those files). The ...1_.mcf file is where the bulk data is stored. Other files contain information about how to read and calibrate the first file. Unfortunately it is rather difficult to make sense of the binary files (that's why we have been using DataAnalysis to export data into easily readable txt files). \n",
    "\n",
    "The `rtms` library written in `R` implements a parser that can read the mcf and mcf_idx files. We are using `rpy2`, a Python package that allows executing `R` code from Python to read the data. Thereby we obtain information of $m/z$ and intensity values for spectra up to the processing done so far in DataAnalysis. This also means that we only have access to the data that is left after the data reduction. \n",
    "\n",
    "By the way, the `rtms` parser also fetches the settings (you can also see them in DataAnalysis) and are used to get the $m/z$ window. Let's take a look at the parameters"
   ]
  },
  {
   "cell_type": "code",
   "execution_count": 1,
   "id": "e1e0d49d-5bc1-4ecb-a96c-af89d795f996",
   "metadata": {},
   "outputs": [
    {
     "name": "stderr",
     "output_type": "stream",
     "text": [
      "creating BrukerMCF reader, this may take a while ...\n"
     ]
    },
    {
     "data": {
      "text/html": [
       "<div>\n",
       "<style scoped>\n",
       "    .dataframe tbody tr th:only-of-type {\n",
       "        vertical-align: middle;\n",
       "    }\n",
       "\n",
       "    .dataframe tbody tr th {\n",
       "        vertical-align: top;\n",
       "    }\n",
       "\n",
       "    .dataframe thead th {\n",
       "        text-align: right;\n",
       "    }\n",
       "</style>\n",
       "<table border=\"1\" class=\"dataframe\">\n",
       "  <thead>\n",
       "    <tr style=\"text-align: right;\">\n",
       "      <th></th>\n",
       "      <th>Index</th>\n",
       "      <th>PermanentName</th>\n",
       "      <th>GroupName</th>\n",
       "      <th>DisplayName</th>\n",
       "      <th>Value</th>\n",
       "    </tr>\n",
       "  </thead>\n",
       "  <tbody>\n",
       "    <tr>\n",
       "      <th>0</th>\n",
       "      <td>1</td>\n",
       "      <td>Active_Segment_Index</td>\n",
       "      <td>Active method segment index</td>\n",
       "      <td>Acquisition Control Option</td>\n",
       "      <td>0</td>\n",
       "    </tr>\n",
       "    <tr>\n",
       "      <th>1</th>\n",
       "      <td>1</td>\n",
       "      <td>AMP_Apply_QPE</td>\n",
       "      <td>Apply QPE</td>\n",
       "      <td>Absorption Mode Processing</td>\n",
       "      <td>Off</td>\n",
       "    </tr>\n",
       "    <tr>\n",
       "      <th>2</th>\n",
       "      <td>1</td>\n",
       "      <td>AMP_Baseline_Correct</td>\n",
       "      <td>Post-AMP Baseline Correction</td>\n",
       "      <td>Absorption Mode Processing</td>\n",
       "      <td>4</td>\n",
       "    </tr>\n",
       "    <tr>\n",
       "      <th>3</th>\n",
       "      <td>1</td>\n",
       "      <td>AMP_Perform_PreCalculation_Correction</td>\n",
       "      <td>Perform Pre-AMP Correction</td>\n",
       "      <td>Absorption Mode Processing</td>\n",
       "      <td>Off</td>\n",
       "    </tr>\n",
       "    <tr>\n",
       "      <th>4</th>\n",
       "      <td>1</td>\n",
       "      <td>AMP_QPE_UseFinePhaseCorrection</td>\n",
       "      <td>Use Fine Phase Correction for QPE</td>\n",
       "      <td>Absorption Mode Processing</td>\n",
       "      <td>Off</td>\n",
       "    </tr>\n",
       "    <tr>\n",
       "      <th>...</th>\n",
       "      <td>...</td>\n",
       "      <td>...</td>\n",
       "      <td>...</td>\n",
       "      <td>...</td>\n",
       "      <td>...</td>\n",
       "    </tr>\n",
       "    <tr>\n",
       "      <th>343</th>\n",
       "      <td>1</td>\n",
       "      <td>Xfer_Freq</td>\n",
       "      <td>Transfer Line Frequency</td>\n",
       "      <td>Ion Transfer Optics</td>\n",
       "      <td>2.0</td>\n",
       "    </tr>\n",
       "    <tr>\n",
       "      <th>344</th>\n",
       "      <td>1</td>\n",
       "      <td>Xfer_Lens_1</td>\n",
       "      <td>Focusing Lens 1  [Instrument Param]</td>\n",
       "      <td>Ion Transfer Optics</td>\n",
       "      <td>-40.0 V</td>\n",
       "    </tr>\n",
       "    <tr>\n",
       "      <th>345</th>\n",
       "      <td>1</td>\n",
       "      <td>Xfer_Lens_2</td>\n",
       "      <td>Focusing Lens 2  [Instrument Param]</td>\n",
       "      <td>Ion Transfer Optics</td>\n",
       "      <td>-11.0 V</td>\n",
       "    </tr>\n",
       "    <tr>\n",
       "      <th>346</th>\n",
       "      <td>1</td>\n",
       "      <td>Xfer_Lens_3</td>\n",
       "      <td>Focusing Lens 3  [Instrument Param]</td>\n",
       "      <td>Ion Transfer Optics</td>\n",
       "      <td>-50.0 V</td>\n",
       "    </tr>\n",
       "    <tr>\n",
       "      <th>347</th>\n",
       "      <td>1</td>\n",
       "      <td>Xfer_RFAmp</td>\n",
       "      <td>Transfer Line RF</td>\n",
       "      <td>Ion Transfer Optics</td>\n",
       "      <td>350.0 Vpp</td>\n",
       "    </tr>\n",
       "  </tbody>\n",
       "</table>\n",
       "<p>348 rows × 5 columns</p>\n",
       "</div>"
      ],
      "text/plain": [
       "     Index                          PermanentName  \\\n",
       "0        1                   Active_Segment_Index   \n",
       "1        1                          AMP_Apply_QPE   \n",
       "2        1                   AMP_Baseline_Correct   \n",
       "3        1  AMP_Perform_PreCalculation_Correction   \n",
       "4        1         AMP_QPE_UseFinePhaseCorrection   \n",
       "..     ...                                    ...   \n",
       "343      1                              Xfer_Freq   \n",
       "344      1                            Xfer_Lens_1   \n",
       "345      1                            Xfer_Lens_2   \n",
       "346      1                            Xfer_Lens_3   \n",
       "347      1                             Xfer_RFAmp   \n",
       "\n",
       "                               GroupName                 DisplayName  \\\n",
       "0            Active method segment index  Acquisition Control Option   \n",
       "1                              Apply QPE  Absorption Mode Processing   \n",
       "2           Post-AMP Baseline Correction  Absorption Mode Processing   \n",
       "3             Perform Pre-AMP Correction  Absorption Mode Processing   \n",
       "4      Use Fine Phase Correction for QPE  Absorption Mode Processing   \n",
       "..                                   ...                         ...   \n",
       "343              Transfer Line Frequency         Ion Transfer Optics   \n",
       "344  Focusing Lens 1  [Instrument Param]         Ion Transfer Optics   \n",
       "345  Focusing Lens 2  [Instrument Param]         Ion Transfer Optics   \n",
       "346  Focusing Lens 3  [Instrument Param]         Ion Transfer Optics   \n",
       "347                     Transfer Line RF         Ion Transfer Optics   \n",
       "\n",
       "         Value  \n",
       "0            0  \n",
       "1          Off  \n",
       "2            4  \n",
       "3          Off  \n",
       "4          Off  \n",
       "..         ...  \n",
       "343        2.0  \n",
       "344    -40.0 V  \n",
       "345    -11.0 V  \n",
       "346    -50.0 V  \n",
       "347  350.0 Vpp  \n",
       "\n",
       "[348 rows x 5 columns]"
      ]
     },
     "execution_count": 1,
     "metadata": {},
     "output_type": "execute_result"
    }
   ],
   "source": [
    "from maspim import get_project\n",
    "import user_params\n",
    "\n",
    "project = get_project(True, user_params.path_folder_test_data)\n",
    "reader = project.get_mcf_reader()\n",
    "df= reader.metaData\n",
    "df"
   ]
  },
  {
   "cell_type": "markdown",
   "id": "b2b0a759-788f-4b96-b484-363af041eddb",
   "metadata": {},
   "source": [
    "The list is quite long but most of the parameters are not active. For most measurements, the settings also define the CASY window, by default we only use masses inside it"
   ]
  },
  {
   "cell_type": "code",
   "execution_count": 2,
   "id": "1098069c-467b-486d-a49d-d45eb8d8425d",
   "metadata": {},
   "outputs": [
    {
     "data": {
      "text/plain": [
       "(544.0, 564.0)"
      ]
     },
     "execution_count": 2,
     "metadata": {},
     "output_type": "execute_result"
    }
   ],
   "source": [
    "reader.limits"
   ]
  },
  {
   "cell_type": "code",
   "execution_count": null,
   "id": "d007e3c8-2089-45ce-9a4a-116c92fc4f49",
   "metadata": {},
   "outputs": [],
   "source": []
  }
 ],
 "metadata": {
  "kernelspec": {
   "display_name": "Python 3 (ipykernel)",
   "language": "python",
   "name": "python3"
  },
  "language_info": {
   "codemirror_mode": {
    "name": "ipython",
    "version": 3
   },
   "file_extension": ".py",
   "mimetype": "text/x-python",
   "name": "python",
   "nbconvert_exporter": "python",
   "pygments_lexer": "ipython3",
   "version": "3.12.4"
  }
 },
 "nbformat": 4,
 "nbformat_minor": 5
}
