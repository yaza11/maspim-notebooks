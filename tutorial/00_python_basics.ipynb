{
 "cells": [
  {
   "cell_type": "markdown",
   "id": "36bbc734-e75c-4142-9f86-2745e7cc3318",
   "metadata": {},
   "source": [
    "## Introduction\n",
    "If you have not worked with Python or any other programming language yet or you simply need a refresher, this is the right location for you to start. We will introduce some very basic concepts that will help you get through the following sections. However, this chapter is not meant to be sufficient to gain a good foundation for working with Python in general.\n",
    "\n",
    "## Notebooks\n",
    "The workshop is organized around notebooks (you are looking at one right now). You can execute the cells by pressing `shift` + `enter`. Cells share their information, so if you define something in the first cell and execute it, you can use it in all other cells. Generally, you want to execute cells from top to bottom as cells below usually depend on those above. But you can change values within a cell and run it again which makes it more convenient for scripting than Python files. The table of contents is hidden by default, you can show it with `ctrl` + `shift` + `K`. If the last statement within a cell is returning something, it will be shown below the cell.\n",
    "\n",
    "## Comments\n",
    "Anything after `#` denotes a single-line comment"
   ]
  },
  {
   "cell_type": "markdown",
   "id": "457d06a0-3fb6-4c67-9cfd-dbad96bf401a",
   "metadata": {},
   "source": [
    "# this is a comment"
   ]
  },
  {
   "cell_type": "markdown",
   "id": "2a90b762-c049-4987-b416-12a71f3d6332",
   "metadata": {},
   "source": [
    "and multi-line comments are either enclosed in ''' or \"\"\""
   ]
  },
  {
   "cell_type": "code",
   "execution_count": 1,
   "id": "565478fe-43ef-4214-82fb-cd53eda66a55",
   "metadata": {},
   "outputs": [
    {
     "data": {
      "text/plain": [
       "'\\n\\nanother multi-line comment\\n\\n'"
      ]
     },
     "execution_count": 1,
     "metadata": {},
     "output_type": "execute_result"
    }
   ],
   "source": [
    "\"\"\"\n",
    "\n",
    "a multi-line comment\n",
    "\n",
    "\"\"\"\n",
    "\n",
    "'''\n",
    "\n",
    "another multi-line comment\n",
    "\n",
    "'''\n",
    "\n"
   ]
  },
  {
   "cell_type": "markdown",
   "id": "bb352d98-0f91-4223-9a61-efdc26ebf38d",
   "metadata": {},
   "source": [
    "## Assigning\n",
    "In Python, you can assign *variables* using *=*. They are called variables because their values may change during the execution of the program"
   ]
  },
  {
   "cell_type": "code",
   "execution_count": 2,
   "id": "0d4011c4-0e99-4c00-a329-74880f07801d",
   "metadata": {},
   "outputs": [],
   "source": [
    "a = 3\n",
    "b = 4.4\n",
    "c = 'hello'\n",
    "d = [1, 2, 3]\n",
    "e = False\n",
    "f = (1, 2)\n",
    "g = {3, 4}\n",
    "h = {'a': 1, 'b': 2}"
   ]
  },
  {
   "cell_type": "markdown",
   "id": "5b7763ad-9125-4fc1-82cf-827b08b66113",
   "metadata": {},
   "source": [
    "## Types\n",
    "Every variable has a certain type. We can see the most common ones above. You can inspect a variables type by passing a variable to the `type` function"
   ]
  },
  {
   "cell_type": "code",
   "execution_count": 3,
   "id": "1e7e6af4-9b4e-42b0-99f2-5ecfea8f8548",
   "metadata": {},
   "outputs": [
    {
     "data": {
      "text/plain": [
       "int"
      ]
     },
     "execution_count": 3,
     "metadata": {},
     "output_type": "execute_result"
    }
   ],
   "source": [
    "type(a)"
   ]
  },
  {
   "cell_type": "markdown",
   "id": "eb1863a0-1ad6-4717-aa86-10292342c69e",
   "metadata": {},
   "source": [
    "## Functions\n",
    "Functions are used to isolate and reuse certain code blocks. In general they take *arguments* (often abbreviate args) and keyword arguments (kwargs). Arguments must be provided whereas keyword arguments are optional and usually are associated with default values. The function below takes two arguments `a` and `b` and returns their product:"
   ]
  },
  {
   "cell_type": "code",
   "execution_count": 4,
   "id": "366d4aab-6909-44dc-b38c-64724096ca22",
   "metadata": {},
   "outputs": [],
   "source": [
    "def multiply(a, b):\n",
    "    return a * b"
   ]
  },
  {
   "cell_type": "markdown",
   "id": "1e557e6b-2d6a-4456-899e-19a6cec84bd4",
   "metadata": {},
   "source": [
    "Now we can *call* this function"
   ]
  },
  {
   "cell_type": "code",
   "execution_count": 5,
   "id": "62921be4-5b75-4fdb-86b3-2ead372f603f",
   "metadata": {},
   "outputs": [
    {
     "data": {
      "text/plain": [
       "6"
      ]
     },
     "execution_count": 5,
     "metadata": {},
     "output_type": "execute_result"
    }
   ],
   "source": [
    "multiply(2, 3)"
   ]
  },
  {
   "cell_type": "code",
   "execution_count": 6,
   "id": "a3da8247-d706-42d3-afd6-0ddf73b9e10a",
   "metadata": {},
   "outputs": [
    {
     "data": {
      "text/plain": [
       "12"
      ]
     },
     "execution_count": 6,
     "metadata": {},
     "output_type": "execute_result"
    }
   ],
   "source": [
    "multiply(3, 4)"
   ]
  },
  {
   "cell_type": "markdown",
   "id": "634a49c9-9543-4da0-9a3b-8077b3a26c80",
   "metadata": {},
   "source": [
    "This is what a function with kwargs would look like (the parameter `c` is optional and by default has a value of `1`):"
   ]
  },
  {
   "cell_type": "code",
   "execution_count": 13,
   "id": "a15de9cc-88c3-4366-b612-c69f3e542cf6",
   "metadata": {},
   "outputs": [],
   "source": [
    "def multiply_new(a, b, c=0.5):\n",
    "    return a * b * c"
   ]
  },
  {
   "cell_type": "markdown",
   "id": "80cb507d-a11a-40fc-a0cb-98ad939f0efd",
   "metadata": {},
   "source": [
    "### Quiz\n",
    "Before you execute the following cell, try and answer what the output will be:"
   ]
  },
  {
   "cell_type": "code",
   "execution_count": 14,
   "id": "043281da-cbba-4e0b-982c-4b29c5a9769a",
   "metadata": {},
   "outputs": [
    {
     "name": "stdin",
     "output_type": "stream",
     "text": [
      "Enter your answer:  3\n"
     ]
    },
    {
     "name": "stdout",
     "output_type": "stream",
     "text": [
      "Correct!\n"
     ]
    }
   ],
   "source": [
    "from tasks import chapter0_task1\n",
    "\n",
    "chapter0_task1.ask()"
   ]
  },
  {
   "cell_type": "code",
   "execution_count": 11,
   "id": "3fdc285f-9433-42c9-ab91-ddb6cb9ee961",
   "metadata": {},
   "outputs": [
    {
     "data": {
      "text/plain": [
       "6"
      ]
     },
     "execution_count": 11,
     "metadata": {},
     "output_type": "execute_result"
    }
   ],
   "source": [
    "multiply_new(2, 3)"
   ]
  },
  {
   "cell_type": "markdown",
   "id": "c27fac68-730c-47f8-8c96-691ff256d0dd",
   "metadata": {},
   "source": [
    "### The print function\n",
    "So far we made use of the notebooks property to show the last return statement. We can use Python's build-in `print` function to show a variables values at any point"
   ]
  },
  {
   "cell_type": "code",
   "execution_count": 15,
   "id": "ff96e9e0-c891-4917-87ff-9f8cee4b1f29",
   "metadata": {},
   "outputs": [
    {
     "name": "stdout",
     "output_type": "stream",
     "text": [
      "2\n",
      "25\n"
     ]
    }
   ],
   "source": [
    "a = 1\n",
    "b = 5\n",
    "c = b - a * 3\n",
    "print(c)\n",
    "d = b ** c  # this is b^c in python\n",
    "print(d)"
   ]
  },
  {
   "cell_type": "markdown",
   "id": "0ee5d679-bc9d-46f2-a5ae-dcf7fdcbfdbb",
   "metadata": {},
   "source": [
    "## Operations\n",
    "We saw a few operations already, namely multiplication, subtraction, and exponentiation. Of course, there is also division `/` and addition `+`. Also important are comparisons:"
   ]
  },
  {
   "cell_type": "code",
   "execution_count": 16,
   "id": "e92cbaaf-390b-4d80-a0e1-3d99a4ea72a7",
   "metadata": {},
   "outputs": [
    {
     "name": "stdout",
     "output_type": "stream",
     "text": [
      "False True\n",
      "True False\n",
      "True True\n",
      "False True\n"
     ]
    }
   ],
   "source": [
    "print(1 == 2, 1 == 1)  # is equal to\n",
    "print(1 != 2, 1 != 1)  # is not equal to \n",
    "print(1 < 2, 1 <= 1)  # smaller and smaller or equal to\n",
    "print(1 > 2, 1 >= 1)  # smaller and smaller or equal to"
   ]
  },
  {
   "cell_type": "markdown",
   "id": "c0f59cfb-bff9-4637-af1d-a32a46a165d3",
   "metadata": {},
   "source": [
    "There is also `and` and `or`:"
   ]
  },
  {
   "cell_type": "code",
   "execution_count": 17,
   "id": "647d8366-1a63-4b0c-a53c-6638fe0e1b8c",
   "metadata": {},
   "outputs": [
    {
     "name": "stdout",
     "output_type": "stream",
     "text": [
      "False\n",
      "True\n"
     ]
    }
   ],
   "source": [
    "print(True and False)\n",
    "print(False or True)"
   ]
  },
  {
   "cell_type": "markdown",
   "id": "16bde7d1-5d39-40ad-aba1-6d9768927308",
   "metadata": {},
   "source": [
    "### Quiz\n",
    "What would the output of `(1 > 0) and ((17 != (4 ** 2 + 1)) or (11 - 6 * 2 < 0))` be?"
   ]
  },
  {
   "cell_type": "code",
   "execution_count": 18,
   "id": "dd3c49f1-b1ba-400d-825e-1c554ff99788",
   "metadata": {},
   "outputs": [
    {
     "name": "stdin",
     "output_type": "stream",
     "text": [
      "Enter your answer:  1\n"
     ]
    },
    {
     "name": "stdout",
     "output_type": "stream",
     "text": [
      "Incorrect! But that's okay, you can try again\n",
      "possible options are: 'True', 'False'\n"
     ]
    }
   ],
   "source": [
    "from tasks import chapter0_task2\n",
    "chapter0_task2.ask()"
   ]
  },
  {
   "cell_type": "markdown",
   "id": "004ebf27-6f0d-44df-bdac-e0a5ba62a0fe",
   "metadata": {},
   "source": [
    "## Imports\n",
    "The power of Python comes with packages, for example `numpy` for working with arrays, `pandas` for working with data frames and, of course, `maspim`which you will explore today. We can either *import* a namespace by using a bare import"
   ]
  },
  {
   "cell_type": "code",
   "execution_count": 19,
   "id": "53bf3896-7aef-4153-b9b0-5cd9962d2150",
   "metadata": {},
   "outputs": [
    {
     "data": {
      "text/plain": [
       "array([0.50039692])"
      ]
     },
     "execution_count": 19,
     "metadata": {},
     "output_type": "execute_result"
    }
   ],
   "source": [
    "import numpy\n",
    "\n",
    "numpy.random.random(1)"
   ]
  },
  {
   "cell_type": "markdown",
   "id": "b5905da1-5db2-420b-afd9-3799a0e78bcb",
   "metadata": {},
   "source": [
    "change how we want to refer to that namespace"
   ]
  },
  {
   "cell_type": "code",
   "execution_count": 20,
   "id": "87abb791-9f1a-4fbd-9510-314581663cc1",
   "metadata": {},
   "outputs": [
    {
     "name": "stdout",
     "output_type": "stream",
     "text": [
      "[0.37896876]\n"
     ]
    }
   ],
   "source": [
    "# those abbreviations are convention\n",
    "import numpy as np\n",
    "import pandas as pd\n",
    "\n",
    "print(np.random.random(1))"
   ]
  },
  {
   "cell_type": "markdown",
   "id": "eba6c4f2-5873-4cbc-b514-1ee3f593fb44",
   "metadata": {},
   "source": [
    "import from a sub-module (here we import the sub-package pyplot from matplotlib)"
   ]
  },
  {
   "cell_type": "code",
   "execution_count": 21,
   "id": "a90cd700-5d65-4b3f-81c2-50e2e85a4108",
   "metadata": {},
   "outputs": [],
   "source": [
    "# matplotlib is the go-to package for plotting and this syntax is also de-facto standard\n",
    "import matplotlib.pyplot as plt"
   ]
  },
  {
   "cell_type": "markdown",
   "id": "4460810c-52e7-450f-b5a3-36bf38dd620a",
   "metadata": {},
   "source": [
    "or use the `from` keyword to get certain functions, modules, classes or variables"
   ]
  },
  {
   "cell_type": "code",
   "execution_count": 22,
   "id": "8bb44df1-44e8-4930-a140-6ac2560d4f9b",
   "metadata": {},
   "outputs": [
    {
     "name": "stdout",
     "output_type": "stream",
     "text": [
      "[5 8 6]\n"
     ]
    }
   ],
   "source": [
    "from numpy import array\n",
    "\n",
    "# arrays are closely related to matrices and allow efficient calculations for higher level mathematical objects\n",
    "a = array([1, 2, 3])  \n",
    "b = array([5, 4, 2])\n",
    "\n",
    "print(a * b)"
   ]
  },
  {
   "cell_type": "markdown",
   "id": "96f0c9b7-6aa4-49da-96c7-7a7cda7396d9",
   "metadata": {},
   "source": [
    "## Scopes\n",
    "One potential pitfall when working with functions and so on are scopes: variables that are defined inside a function are not known outside of that function:"
   ]
  },
  {
   "cell_type": "code",
   "execution_count": 23,
   "id": "2844e63b-e54d-4351-8a56-0d8d1d336d59",
   "metadata": {},
   "outputs": [
    {
     "name": "stdout",
     "output_type": "stream",
     "text": [
      "34\n"
     ]
    }
   ],
   "source": [
    "def func():\n",
    "    new_variable = 34  # a is known inside func, so we can print it from inside the function\n",
    "    print(new_variable)\n",
    "\n",
    "func()  # call the function"
   ]
  },
  {
   "cell_type": "code",
   "execution_count": 24,
   "id": "fd1f6ef6-6f15-4cb2-9db6-7049f63a33d6",
   "metadata": {},
   "outputs": [
    {
     "ename": "NameError",
     "evalue": "name 'new_variable' is not defined",
     "output_type": "error",
     "traceback": [
      "\u001b[1;31m---------------------------------------------------------------------------\u001b[0m",
      "\u001b[1;31mNameError\u001b[0m                                 Traceback (most recent call last)",
      "Cell \u001b[1;32mIn[24], line 2\u001b[0m\n\u001b[0;32m      1\u001b[0m \u001b[38;5;66;03m# however, outside the function a is not known because it only exists inside the scope of the function\u001b[39;00m\n\u001b[1;32m----> 2\u001b[0m \u001b[38;5;28mprint\u001b[39m(\u001b[43mnew_variable\u001b[49m)\n",
      "\u001b[1;31mNameError\u001b[0m: name 'new_variable' is not defined"
     ]
    }
   ],
   "source": [
    "# however, outside the function a is not known because it only exists inside the scope of the function\n",
    "print(new_variable)"
   ]
  },
  {
   "cell_type": "markdown",
   "id": "b3fe1e01-ef3f-43a0-9f67-648a73cd4017",
   "metadata": {},
   "source": [
    "On the other hand, a function can access the scope from outside"
   ]
  },
  {
   "cell_type": "code",
   "execution_count": 25,
   "id": "d2c47a4b-3574-4a36-a12e-86124577e7e9",
   "metadata": {},
   "outputs": [
    {
     "name": "stdout",
     "output_type": "stream",
     "text": [
      "-1\n"
     ]
    }
   ],
   "source": [
    "def func():\n",
    "    print(new_variable2)\n",
    "\n",
    "new_variable2 = -1\n",
    "\n",
    "func()"
   ]
  },
  {
   "cell_type": "markdown",
   "id": "13fd48f8-007f-4e3d-8d74-2f117cb3a461",
   "metadata": {},
   "source": [
    "We can use this to our advantage to be memory efficient. After a function is called, its scope is \n",
    "\n",
    "## Classes\n",
    "Finally, let's look at classes. This is a huge topic in itself but `maspim` is built around classes and to get a better grasp of what is going on, it is important to be aware of those key concepts. A very basic functions can be as simple as this:"
   ]
  },
  {
   "cell_type": "code",
   "execution_count": 26,
   "id": "3384f54a-f6b6-49d8-976a-f959ff19205e",
   "metadata": {},
   "outputs": [],
   "source": [
    "class DoNothing:\n",
    "    pass"
   ]
  },
  {
   "cell_type": "markdown",
   "id": "702fe150-1bdc-49ea-a193-ed9b123599d6",
   "metadata": {},
   "source": [
    "This class does nothing and is not very exciting. \n",
    "\n",
    "### Initialization and Instances\n",
    "The power of classes is that we can use it to share functionality across instances. For example, in `maspim` we have the `MSI` and the `XRF` classes. Oftentimes we have multiple MSI measurements that we want to process in the same way but each measurement has its own variables (for example, where it is stored and the name). Here is a very watered-down example"
   ]
  },
  {
   "cell_type": "code",
   "execution_count": 27,
   "id": "e82122f7-4ebb-4d63-8f94-323441e07c9c",
   "metadata": {},
   "outputs": [],
   "source": [
    "class MSI:\n",
    "    def __init__(self, path_folder, name='MSI measurement'):\n",
    "        self.path_folder = path_folder\n",
    "        self.name = name"
   ]
  },
  {
   "cell_type": "markdown",
   "id": "eefd32ba-f2ce-40c9-8a5e-37ab419e9e47",
   "metadata": {},
   "source": [
    "So when we call the class, we can specify different folders and optionally different names"
   ]
  },
  {
   "cell_type": "code",
   "execution_count": 28,
   "id": "751c2579-2750-4a42-a18d-ac4e0549e023",
   "metadata": {},
   "outputs": [],
   "source": [
    "msi1 = MSI('path1', name='1')\n",
    "msi2 = MSI('path2', name='2')"
   ]
  },
  {
   "cell_type": "markdown",
   "id": "8b800b2d-fed1-41f4-a252-cf3cc8b87f16",
   "metadata": {},
   "source": [
    "The process of calling `MSI(...)` is called *initialization* because we call the classes initializer method `__init__` or *instantiation* because we create *instances* of the `MSI` class.\n",
    "\n",
    "### Attributes\n",
    "The instances defined above have the class attributes 'path_folder' and 'name'. Attributes are useful to keep variables bound to certain objects and not having to worry about their scopes"
   ]
  },
  {
   "cell_type": "code",
   "execution_count": 29,
   "id": "580a8a26-add2-4490-959f-ba621a6d0a67",
   "metadata": {},
   "outputs": [
    {
     "name": "stdout",
     "output_type": "stream",
     "text": [
      "1\n",
      "path1\n"
     ]
    }
   ],
   "source": [
    "print(msi1.name)\n",
    "print(msi1.path_folder)"
   ]
  },
  {
   "cell_type": "markdown",
   "id": "e8677839-9212-4ff8-906a-a832a3be8d71",
   "metadata": {},
   "source": [
    "### Methods\n",
    "Commonly, classes define *methods*. Essentially they are functions that are bound to the class and have access to the classes variables. For example, we may have a method `read` that uses the classes"
   ]
  },
  {
   "cell_type": "code",
   "execution_count": 30,
   "id": "414843dc-36b5-42a6-8731-10ff397a4c88",
   "metadata": {},
   "outputs": [],
   "source": [
    "import os\n",
    "\n",
    "class MSI:\n",
    "    def __init__(self, path_folder, name='MSI measurement'):\n",
    "        self.path_folder = path_folder\n",
    "        self.name = name\n",
    "\n",
    "    def read_binary(self, file_name):  # methods usually use the self variable so that we have access to attributes and methods of the class within this method\n",
    "        file = os.path.join(self.path_folder, file_name)\n",
    "        # Reading from the binary file\n",
    "        with open(file, 'rb') as f:\n",
    "            read_msg = f.read().decode('ascii')  # Read and decode the message\n",
    "        \n",
    "        return read_msg"
   ]
  },
  {
   "cell_type": "markdown",
   "id": "66c13b6e-e2d8-4ad3-9430-7835219a0706",
   "metadata": {},
   "source": [
    "So calling this method would look for a file in the folder and then try to decode the message"
   ]
  },
  {
   "cell_type": "code",
   "execution_count": 31,
   "id": "912759a4-588c-4db8-9776-d7fa97dee95f",
   "metadata": {},
   "outputs": [
    {
     "name": "stdout",
     "output_type": "stream",
     "text": [
      "You read a file. Good job!\n"
     ]
    }
   ],
   "source": [
    "import user_params\n",
    "\n",
    "folder_notebooks = os.path.join(user_params.path_folder_workshop, 'notebooks')\n",
    "\n",
    "msi = MSI(path_folder=folder_notebooks)  # first initialize an MSI instance in the notebooks folder\n",
    "# now let's decode the message\n",
    "msg = msi.read_binary('secret_message.secret')\n",
    "print(msg)"
   ]
  },
  {
   "cell_type": "markdown",
   "id": "c39a23da-d6d3-4c41-99e6-e2c91af322ab",
   "metadata": {},
   "source": [
    "### Private methods and attributes\n",
    "Sometimes method names or attributes will start with a single underscore. This marks that they should not be called from the outside (although it is possbile). If you find yourself needing to call a private method or attribute, it is good sign that you are not using a class in the intended way. "
   ]
  },
  {
   "cell_type": "code",
   "execution_count": null,
   "id": "7a7ca0c9-4eed-4814-8a83-e7060a4f709d",
   "metadata": {},
   "outputs": [],
   "source": []
  },
  {
   "cell_type": "code",
   "execution_count": null,
   "id": "f0ffbd23-32c6-419e-83f2-cdaab83c452a",
   "metadata": {},
   "outputs": [],
   "source": []
  },
  {
   "cell_type": "code",
   "execution_count": null,
   "id": "6f6b50b8-7040-4c6b-96e6-08303de72722",
   "metadata": {},
   "outputs": [],
   "source": []
  }
 ],
 "metadata": {
  "kernelspec": {
   "display_name": "Python 3 (ipykernel)",
   "language": "python",
   "name": "python3"
  },
  "language_info": {
   "codemirror_mode": {
    "name": "ipython",
    "version": 3
   },
   "file_extension": ".py",
   "mimetype": "text/x-python",
   "name": "python",
   "nbconvert_exporter": "python",
   "pygments_lexer": "ipython3",
   "version": "3.12.4"
  }
 },
 "nbformat": 4,
 "nbformat_minor": 5
}
