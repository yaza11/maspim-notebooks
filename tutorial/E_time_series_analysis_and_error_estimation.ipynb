{
 "cells": [
  {
   "cell_type": "markdown",
   "id": "e99f1a0a-e822-4168-8088-2e45bb357dad",
   "metadata": {},
   "source": [
    "## Uncertainties in time series analysis\n",
    "To obtain a time series spectra in equal-depth horizons are averaged. Due to statistically distributed noise in intensities, values within layers are usually roughly Gaussian distributed:"
   ]
  },
  {
   "cell_type": "code",
   "execution_count": null,
   "id": "d50dd227-a94d-49bf-a5a1-571dfe8b0e3e",
   "metadata": {},
   "outputs": [],
   "source": [
    "import os\n",
    "\n",
    "from maspim import MSI\n",
    "from user_params import checkpoint\n",
    "\n",
    "msi = MSI(path_d_folder=os.path.dirname(checkpoint('full example', 'MSI')))\n",
    "msi.load('with_images')"
   ]
  },
  {
   "cell_type": "code",
   "execution_count": null,
   "id": "98eec07a-8153-42c1-a919-ad7a6f7e3d89",
   "metadata": {},
   "outputs": [],
   "source": [
    "import matplotlib.pyplot as plt\n",
    "import matplotlib\n",
    "\n",
    "from maspim.res.compound_masses import mC37_2\n",
    "%matplotlib inline\n",
    "\n",
    "# create groups with 5 rows of data points each\n",
    "rounded_indices = 5 * (msi.feature_table.x // 5)\n",
    "msi.feature_table.loc[:, 'index_interval'] = rounded_indices\n",
    "\n",
    "zones = msi.feature_table.index_interval.unique()\n",
    "n = len(zones)\n",
    "\n",
    "cmap = matplotlib.colormaps[\"hsv\"]\n",
    "plt.figure()\n",
    "for i, zone in enumerate(zones):\n",
    "    mask = msi.feature_table.index_interval == zone\n",
    "    group = msi.data.loc[mask, msi.get_closest_mz(mC37_2)]\n",
    "    # scale\n",
    "    group -= group.mean()\n",
    "    group /= group.std()\n",
    "    plt.hist(group, alpha=.5, color=cmap(i / n), histtype='step')\n",
    "plt.show()"
   ]
  },
  {
   "cell_type": "markdown",
   "id": "81498012-bfc7-49d5-8b0c-892c24bc887b",
   "metadata": {},
   "source": [
    "Hence, we can estimate the *standard error* for each value in respectives zones $v_i$ in the time series as $\\Delta v_i = \\sigma_i / n_i$ where $\\sigma_i$ is the standard deviation and $n_i$ the number of datapoints in zone $i$. Following the error propagation formula \n",
    "\\begin{equation}\n",
    "    \\Delta f(\\vec{x}_i) = \\sum_j \\left|\\frac{\\partial f(\\vec{x}_i)}{\\partial x_j} \\Delta x_j\\right|\n",
    "\\end{equation}\n",
    "we can also calculate the uncertainties of proxies and contrasts. "
   ]
  },
  {
   "cell_type": "code",
   "execution_count": null,
   "id": "048250b4-d86f-4c90-bc39-ff465d86dc71",
   "metadata": {},
   "outputs": [],
   "source": []
  }
 ],
 "metadata": {
  "kernelspec": {
   "display_name": "Python 3 (ipykernel)",
   "language": "python",
   "name": "python3"
  },
  "language_info": {
   "codemirror_mode": {
    "name": "ipython",
    "version": 3
   },
   "file_extension": ".py",
   "mimetype": "text/x-python",
   "name": "python",
   "nbconvert_exporter": "python",
   "pygments_lexer": "ipython3",
   "version": "3.12.3"
  }
 },
 "nbformat": 4,
 "nbformat_minor": 5
}
